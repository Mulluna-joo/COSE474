{
  "nbformat": 4,
  "nbformat_minor": 0,
  "metadata": {
    "colab": {
      "provenance": [],
      "machine_shape": "hm"
    },
    "kernelspec": {
      "name": "python3",
      "display_name": "Python 3"
    },
    "language_info": {
      "name": "python"
    },
    "gpuClass": "premium",
    "accelerator": "GPU"
  },
  "cells": [
    {
      "cell_type": "code",
      "source": [
        "from google.colab import drive\n",
        "drive.mount('/content/drive')"
      ],
      "metadata": {
        "colab": {
          "base_uri": "https://localhost:8080/"
        },
        "id": "Lf336AqU2tuM",
        "outputId": "be767868-36fd-45ee-cc22-b40d2dc286bc"
      },
      "execution_count": null,
      "outputs": [
        {
          "output_type": "stream",
          "name": "stdout",
          "text": [
            "Mounted at /content/drive\n"
          ]
        }
      ]
    },
    {
      "cell_type": "markdown",
      "source": [
        "#Dataset\n"
      ],
      "metadata": {
        "id": "R0hIRzobDBuB"
      }
    },
    {
      "cell_type": "code",
      "execution_count": null,
      "metadata": {
        "id": "CIEhrkPEC8IV"
      },
      "outputs": [],
      "source": [
        "import os \n",
        "from PIL import Image\n",
        "from tqdm import tqdm\n",
        "import torch\n",
        "from torch.utils.data import Dataset\n",
        "from torchvision import transforms as T"
      ]
    },
    {
      "cell_type": "code",
      "source": [
        "CLASS_NAMES = ['bottle', 'cable','capsule','carpet']"
      ],
      "metadata": {
        "id": "fBhlKK5RDZky"
      },
      "execution_count": null,
      "outputs": []
    },
    {
      "cell_type": "code",
      "source": [
        "dataset_path = '/content/drive/MyDrive/Padim/mvtec_anomaly_detection'\n",
        "save_path = '/content/drive/MyDrive/Padim/mvtec_anomaly_detection/mvtec_result'"
      ],
      "metadata": {
        "id": "-sLzI1U0STee"
      },
      "execution_count": null,
      "outputs": []
    },
    {
      "cell_type": "code",
      "source": [
        "class MVTecDataset(Dataset):\n",
        "  def __init__(self, dataset_path=None, class_name= 'bottle', is_train=True, resize=256, cropsize=224):\n",
        "    assert class_name in CLASS_NAMES, 'class_name: {}, should be in {}'.format(class_name,CLASS_NAMES)\n",
        "    self.dataset_path = dataset_path\n",
        "    self.class_name = class_name\n",
        "    self.is_train = is_train\n",
        "    self.resize = resize\n",
        "    self.cropsize = cropsize\n",
        "\n",
        "    #load dataset\n",
        "    self.x, self.y, self.mask = self.load_dataset_folder()\n",
        "\n",
        "    # set transforms\n",
        "    self.transform_x = T.Compose([T.Resize(resize, Image.ANTIALIAS),\n",
        "                                  T.CenterCrop(cropsize),\n",
        "                                  T.ToTensor(),\n",
        "                                  T.Normalize(mean=[0.485,0.456,0.406],\n",
        "                                              std=[0.229,0.224,0.225])])\n",
        "    self.transform_mask = T.Compose([T.Resize(resize, Image.NEAREST),\n",
        "                                     T.CenterCrop(cropsize),\n",
        "                                     T.ToTensor()])\n",
        "  \n",
        "  def __getitem__(self, idx):\n",
        "    x,y,mask = self.x[idx], self.y[idx], self.mask[idx]\n",
        "\n",
        "    x= Image.open(x).convert('RGB')\n",
        "    x= self.transform_x(x)\n",
        "\n",
        "    if y==0:\n",
        "      mask= torch.zeros([1, self.cropsize, self.cropsize])\n",
        "    else:\n",
        "      mask = Image.open(mask)\n",
        "      mask = self.transform_mask(mask)\n",
        "\n",
        "    return x,y,mask\n",
        "  \n",
        "  def __len__(self):\n",
        "    return len(self.x)\n",
        "  \n",
        "  def load_dataset_folder(self):\n",
        "    phase = 'train' if self.is_train else 'test'\n",
        "    x,y,mask = [], [], []\n",
        "\n",
        "    img_dir = os.path.join(self.dataset_path, self.class_name, phase)\n",
        "    gt_dir = os.path.join(self.dataset_path, self.class_name, 'ground_truth')\n",
        "\n",
        "    img_types = sorted(os.listdir(img_dir))\n",
        "    for img_type in img_types:\n",
        "\n",
        "      img_type_dir = os.path.join(img_dir, img_type)\n",
        "      if not os.path.isdir(img_type_dir):\n",
        "        continue\n",
        "      img_fpath_list = sorted([os.path.join(img_type_dir,f)\n",
        "                              for f in os.listdir(img_type_dir)])\n",
        "      x.extend(img_fpath_list)\n",
        "\n",
        "      if img_type == 'good':\n",
        "        y.extend([0]* len(img_fpath_list))\n",
        "        mask.extend([None]* len(img_fpath_list))\n",
        "      else :\n",
        "        y.extend([1]* len(img_fpath_list))\n",
        "        gt_type_dir = os.path.join(gt_dir, img_type)\n",
        "        img_fname_list = [os.path.splitext(os.path.basename(f))[0] for f in img_fpath_list]\n",
        "        gt_fpath_list = [os.path.join(gt_type_dir, img_fname + '_mask.png')\n",
        "                        for img_fname in img_fname_list]\n",
        "        mask.extend(gt_fpath_list)\n",
        "\n",
        "    assert len(x) == len(y), 'number of x and y should be same'\n",
        "\n",
        "    return list(x), list(y), list(mask)"
      ],
      "metadata": {
        "id": "W5Z5D10jDvVA"
      },
      "execution_count": null,
      "outputs": []
    },
    {
      "cell_type": "markdown",
      "source": [
        "# model"
      ],
      "metadata": {
        "id": "L35CA2HrIDzx"
      }
    },
    {
      "cell_type": "code",
      "source": [
        "import random\n",
        "from random import sample\n",
        "import argparse\n",
        "import numpy as np\n",
        "import pickle\n",
        "from collections import OrderedDict\n",
        "from sklearn.metrics import roc_auc_score\n",
        "from sklearn.metrics import roc_curve\n",
        "from sklearn.metrics import precision_recall_curve\n",
        "from sklearn.covariance import LedoitWolf\n",
        "from scipy.spatial.distance import mahalanobis\n",
        "from skimage import morphology\n",
        "from scipy.ndimage import gaussian_filter\n",
        "from skimage.segmentation import mark_boundaries\n",
        "import matplotlib.pyplot as plt\n",
        "import matplotlib\n",
        "import torch.nn.functional as F\n",
        "\n",
        "from torch.utils.data import DataLoader\n",
        "from torchvision.models import wide_resnet50_2, resnet18\n",
        "\n"
      ],
      "metadata": {
        "id": "Ch67jNchIIlJ"
      },
      "execution_count": null,
      "outputs": []
    },
    {
      "cell_type": "code",
      "source": [
        "use_cuda = torch.cuda.is_available()\n",
        "device = torch.device('cuda' if use_cuda else 'cpu')"
      ],
      "metadata": {
        "id": "9CFaFb8EO7nf"
      },
      "execution_count": null,
      "outputs": []
    },
    {
      "cell_type": "code",
      "source": [
        "device"
      ],
      "metadata": {
        "colab": {
          "base_uri": "https://localhost:8080/"
        },
        "id": "NclLHNGnDMJW",
        "outputId": "5f9a7774-290d-463c-b68d-da89e128842b"
      },
      "execution_count": null,
      "outputs": [
        {
          "output_type": "execute_result",
          "data": {
            "text/plain": [
              "device(type='cuda')"
            ]
          },
          "metadata": {},
          "execution_count": 8
        }
      ]
    },
    {
      "cell_type": "code",
      "source": [
        "import clip\n",
        "from transformers import CLIPVisionModel, CLIPModel"
      ],
      "metadata": {
        "id": "Wb81qjVukuks"
      },
      "execution_count": null,
      "outputs": []
    },
    {
      "cell_type": "code",
      "source": [
        "model = CLIPVisionModel.from_pretrained(\"openai/clip-vit-base-patch32\")\n",
        "CLIPVisionModel.from_pretrained(\"openai/clip-vit-base-patch32\").register_forward_hook(hook)"
      ],
      "metadata": {
        "colab": {
          "base_uri": "https://localhost:8080/"
        },
        "id": "Ziw1xN6PlmCp",
        "outputId": "246607ab-de50-4bed-c14f-bf3cb17a123f"
      },
      "execution_count": null,
      "outputs": [
        {
          "output_type": "stream",
          "name": "stderr",
          "text": [
            "Some weights of the model checkpoint at openai/clip-vit-base-patch32 were not used when initializing CLIPVisionModel: ['text_model.encoder.layers.0.layer_norm1.weight', 'text_model.encoder.layers.1.mlp.fc2.weight', 'text_model.encoder.layers.2.self_attn.k_proj.bias', 'text_projection.weight', 'text_model.encoder.layers.3.self_attn.v_proj.bias', 'text_model.encoder.layers.4.layer_norm2.bias', 'text_model.encoder.layers.4.mlp.fc2.weight', 'text_model.encoder.layers.9.self_attn.q_proj.weight', 'text_model.encoder.layers.1.layer_norm1.weight', 'text_model.encoder.layers.7.layer_norm2.weight', 'text_model.encoder.layers.8.self_attn.q_proj.weight', 'text_model.encoder.layers.1.self_attn.out_proj.weight', 'text_model.encoder.layers.6.self_attn.q_proj.weight', 'text_model.encoder.layers.10.self_attn.out_proj.bias', 'text_model.encoder.layers.6.mlp.fc2.bias', 'text_model.encoder.layers.8.self_attn.k_proj.bias', 'text_model.encoder.layers.10.layer_norm2.weight', 'text_model.encoder.layers.3.layer_norm2.bias', 'text_model.encoder.layers.6.mlp.fc1.bias', 'text_model.encoder.layers.5.self_attn.q_proj.weight', 'text_model.encoder.layers.2.self_attn.out_proj.weight', 'text_model.encoder.layers.4.self_attn.v_proj.bias', 'text_model.encoder.layers.6.self_attn.q_proj.bias', 'text_model.encoder.layers.3.self_attn.q_proj.bias', 'text_model.encoder.layers.8.mlp.fc1.weight', 'text_model.encoder.layers.5.self_attn.k_proj.bias', 'text_model.encoder.layers.11.mlp.fc1.weight', 'text_model.encoder.layers.1.self_attn.q_proj.bias', 'text_model.encoder.layers.4.mlp.fc1.weight', 'text_model.encoder.layers.8.layer_norm2.weight', 'text_model.encoder.layers.11.self_attn.k_proj.weight', 'text_model.encoder.layers.1.layer_norm2.bias', 'text_model.embeddings.token_embedding.weight', 'text_model.encoder.layers.6.self_attn.v_proj.weight', 'text_model.encoder.layers.5.layer_norm1.weight', 'text_model.encoder.layers.8.self_attn.q_proj.bias', 'text_model.encoder.layers.2.layer_norm2.bias', 'text_model.encoder.layers.3.mlp.fc1.bias', 'text_model.encoder.layers.0.mlp.fc2.weight', 'text_model.encoder.layers.7.mlp.fc1.bias', 'text_model.encoder.layers.0.self_attn.k_proj.weight', 'text_model.encoder.layers.0.self_attn.v_proj.bias', 'text_model.encoder.layers.5.self_attn.k_proj.weight', 'text_model.encoder.layers.0.self_attn.v_proj.weight', 'text_model.encoder.layers.7.layer_norm2.bias', 'text_model.encoder.layers.7.mlp.fc2.bias', 'text_model.encoder.layers.9.mlp.fc1.weight', 'text_model.encoder.layers.3.self_attn.k_proj.bias', 'logit_scale', 'text_model.encoder.layers.3.self_attn.v_proj.weight', 'text_model.encoder.layers.11.mlp.fc2.weight', 'text_model.encoder.layers.5.mlp.fc1.weight', 'text_model.encoder.layers.10.mlp.fc2.bias', 'text_model.encoder.layers.6.layer_norm2.bias', 'text_model.encoder.layers.10.self_attn.v_proj.bias', 'text_model.encoder.layers.9.self_attn.v_proj.bias', 'text_model.encoder.layers.0.layer_norm1.bias', 'text_model.encoder.layers.8.self_attn.out_proj.weight', 'text_model.encoder.layers.4.layer_norm2.weight', 'text_model.encoder.layers.4.self_attn.k_proj.bias', 'text_model.encoder.layers.6.self_attn.out_proj.bias', 'text_model.encoder.layers.10.self_attn.q_proj.bias', 'text_model.encoder.layers.10.layer_norm2.bias', 'text_model.encoder.layers.3.mlp.fc2.bias', 'text_model.encoder.layers.11.self_attn.q_proj.weight', 'text_model.encoder.layers.11.layer_norm2.bias', 'text_model.encoder.layers.1.mlp.fc1.bias', 'text_model.encoder.layers.7.self_attn.v_proj.weight', 'text_model.encoder.layers.6.layer_norm2.weight', 'text_model.encoder.layers.9.layer_norm1.weight', 'text_model.encoder.layers.4.self_attn.q_proj.weight', 'text_model.encoder.layers.10.self_attn.out_proj.weight', 'text_model.encoder.layers.10.mlp.fc1.weight', 'text_model.encoder.layers.3.mlp.fc2.weight', 'text_model.encoder.layers.9.layer_norm2.weight', 'text_model.encoder.layers.6.self_attn.k_proj.bias', 'text_model.encoder.layers.5.self_attn.out_proj.weight', 'text_model.encoder.layers.9.mlp.fc2.weight', 'text_model.encoder.layers.8.self_attn.k_proj.weight', 'text_model.encoder.layers.6.layer_norm1.weight', 'text_model.encoder.layers.4.layer_norm1.bias', 'text_model.encoder.layers.6.self_attn.v_proj.bias', 'text_model.encoder.layers.11.self_attn.q_proj.bias', 'text_model.encoder.layers.11.layer_norm1.weight', 'text_model.encoder.layers.3.layer_norm1.bias', 'text_model.encoder.layers.11.self_attn.out_proj.weight', 'text_model.encoder.layers.10.self_attn.k_proj.bias', 'text_model.encoder.layers.2.self_attn.v_proj.bias', 'text_model.encoder.layers.7.self_attn.out_proj.weight', 'text_model.encoder.layers.4.self_attn.v_proj.weight', 'text_model.encoder.layers.9.self_attn.v_proj.weight', 'text_model.encoder.layers.7.mlp.fc1.weight', 'text_model.encoder.layers.7.self_attn.q_proj.weight', 'text_model.encoder.layers.4.self_attn.k_proj.weight', 'text_model.encoder.layers.10.mlp.fc1.bias', 'text_model.encoder.layers.9.mlp.fc2.bias', 'text_model.encoder.layers.2.mlp.fc1.bias', 'text_model.encoder.layers.2.mlp.fc1.weight', 'text_model.encoder.layers.2.self_attn.v_proj.weight', 'text_model.encoder.layers.1.self_attn.v_proj.weight', 'text_model.encoder.layers.2.self_attn.k_proj.weight', 'text_model.encoder.layers.6.self_attn.k_proj.weight', 'text_model.encoder.layers.0.self_attn.out_proj.weight', 'text_model.encoder.layers.0.self_attn.q_proj.bias', 'text_model.encoder.layers.8.layer_norm2.bias', 'text_model.encoder.layers.11.self_attn.v_proj.weight', 'text_model.encoder.layers.1.self_attn.k_proj.weight', 'text_model.encoder.layers.0.layer_norm2.bias', 'text_model.encoder.layers.3.self_attn.k_proj.weight', 'text_model.encoder.layers.0.layer_norm2.weight', 'text_model.encoder.layers.4.layer_norm1.weight', 'text_model.encoder.layers.8.mlp.fc1.bias', 'text_model.embeddings.position_embedding.weight', 'text_model.encoder.layers.9.self_attn.k_proj.weight', 'text_model.encoder.layers.3.mlp.fc1.weight', 'text_model.encoder.layers.8.self_attn.out_proj.bias', 'text_model.encoder.layers.8.mlp.fc2.bias', 'text_model.encoder.layers.2.layer_norm1.weight', 'text_model.encoder.layers.10.layer_norm1.bias', 'text_model.encoder.layers.5.mlp.fc1.bias', 'text_model.encoder.layers.9.layer_norm1.bias', 'text_model.encoder.layers.3.layer_norm2.weight', 'text_model.encoder.layers.9.mlp.fc1.bias', 'text_model.encoder.layers.8.self_attn.v_proj.weight', 'text_model.encoder.layers.6.mlp.fc2.weight', 'text_model.encoder.layers.5.self_attn.out_proj.bias', 'text_model.encoder.layers.9.self_attn.out_proj.bias', 'text_model.encoder.layers.3.self_attn.q_proj.weight', 'visual_projection.weight', 'text_model.encoder.layers.6.layer_norm1.bias', 'text_model.encoder.layers.10.self_attn.q_proj.weight', 'text_model.encoder.layers.8.self_attn.v_proj.bias', 'text_model.encoder.layers.4.mlp.fc1.bias', 'text_model.encoder.layers.1.self_attn.q_proj.weight', 'text_model.encoder.layers.5.layer_norm2.weight', 'text_model.encoder.layers.0.mlp.fc1.weight', 'text_model.encoder.layers.11.layer_norm1.bias', 'text_model.encoder.layers.8.mlp.fc2.weight', 'text_model.encoder.layers.7.self_attn.v_proj.bias', 'text_model.encoder.layers.7.self_attn.k_proj.weight', 'text_model.encoder.layers.1.mlp.fc1.weight', 'text_model.encoder.layers.3.self_attn.out_proj.weight', 'text_model.encoder.layers.5.self_attn.q_proj.bias', 'text_model.encoder.layers.4.self_attn.out_proj.bias', 'text_model.encoder.layers.7.self_attn.q_proj.bias', 'text_model.encoder.layers.4.self_attn.q_proj.bias', 'text_model.encoder.layers.10.self_attn.k_proj.weight', 'text_model.encoder.layers.5.self_attn.v_proj.bias', 'text_model.encoder.layers.7.mlp.fc2.weight', 'text_model.encoder.layers.8.layer_norm1.weight', 'text_model.encoder.layers.2.self_attn.q_proj.bias', 'text_model.encoder.layers.0.mlp.fc1.bias', 'text_model.encoder.layers.10.self_attn.v_proj.weight', 'text_model.encoder.layers.0.self_attn.out_proj.bias', 'text_model.encoder.layers.1.self_attn.out_proj.bias', 'text_model.encoder.layers.3.layer_norm1.weight', 'text_model.encoder.layers.6.self_attn.out_proj.weight', 'text_model.encoder.layers.3.self_attn.out_proj.bias', 'text_model.encoder.layers.10.mlp.fc2.weight', 'text_model.encoder.layers.8.layer_norm1.bias', 'text_model.encoder.layers.11.self_attn.v_proj.bias', 'text_model.encoder.layers.9.self_attn.k_proj.bias', 'text_model.encoder.layers.9.self_attn.q_proj.bias', 'text_model.encoder.layers.2.mlp.fc2.weight', 'text_model.encoder.layers.0.mlp.fc2.bias', 'text_model.encoder.layers.7.self_attn.out_proj.bias', 'text_model.encoder.layers.4.self_attn.out_proj.weight', 'text_model.encoder.layers.11.mlp.fc2.bias', 'text_model.final_layer_norm.weight', 'text_model.embeddings.position_ids', 'text_model.encoder.layers.5.layer_norm2.bias', 'text_model.encoder.layers.10.layer_norm1.weight', 'text_model.encoder.layers.0.self_attn.q_proj.weight', 'text_model.encoder.layers.11.self_attn.out_proj.bias', 'text_model.encoder.layers.2.self_attn.out_proj.bias', 'text_model.encoder.layers.7.layer_norm1.bias', 'text_model.encoder.layers.2.layer_norm1.bias', 'text_model.encoder.layers.11.layer_norm2.weight', 'text_model.encoder.layers.7.self_attn.k_proj.bias', 'text_model.encoder.layers.4.mlp.fc2.bias', 'text_model.encoder.layers.5.mlp.fc2.weight', 'text_model.encoder.layers.9.self_attn.out_proj.weight', 'text_model.encoder.layers.5.self_attn.v_proj.weight', 'text_model.encoder.layers.1.mlp.fc2.bias', 'text_model.encoder.layers.2.self_attn.q_proj.weight', 'text_model.encoder.layers.9.layer_norm2.bias', 'text_model.encoder.layers.1.layer_norm1.bias', 'text_model.encoder.layers.5.layer_norm1.bias', 'text_model.encoder.layers.2.layer_norm2.weight', 'text_model.encoder.layers.11.mlp.fc1.bias', 'text_model.encoder.layers.5.mlp.fc2.bias', 'text_model.encoder.layers.7.layer_norm1.weight', 'text_model.encoder.layers.0.self_attn.k_proj.bias', 'text_model.encoder.layers.6.mlp.fc1.weight', 'text_model.encoder.layers.1.layer_norm2.weight', 'text_model.encoder.layers.2.mlp.fc2.bias', 'text_model.encoder.layers.1.self_attn.k_proj.bias', 'text_model.encoder.layers.1.self_attn.v_proj.bias', 'text_model.final_layer_norm.bias', 'text_model.encoder.layers.11.self_attn.k_proj.bias']\n",
            "- This IS expected if you are initializing CLIPVisionModel from the checkpoint of a model trained on another task or with another architecture (e.g. initializing a BertForSequenceClassification model from a BertForPreTraining model).\n",
            "- This IS NOT expected if you are initializing CLIPVisionModel from the checkpoint of a model that you expect to be exactly identical (initializing a BertForSequenceClassification model from a BertForSequenceClassification model).\n"
          ]
        }
      ]
    },
    {
      "cell_type": "code",
      "source": [
        "def parse_args():\n",
        "  parser = argparse.ArgumentParser('PaDim')\n",
        "  parser.add_argument('--data_path', type=str, default='/content/drive/MyDrive/Padim/mvtec_anomaly_detection')\n",
        "  parser.add_argument('--save_path', type=str,default='/content/drive/MyDrive/Padim/mvtec_anomaly_detection/mvtec_result')\n",
        "  parser.add_argument('--arch', type=str, choices=['resnet18','wide_resnet50_2'], default='wide_resnet50_2')\n",
        "  parser.add_argument('-f')\n",
        "  return parser.parse_args()\n",
        "\n",
        "model=''\n",
        "def main():\n",
        "\n",
        "  args= parse_args()\n",
        "  global model\n",
        "  # load model\n",
        "  if args.arch =='resnet18':\n",
        "    model = resnet18(pretrained=True, progress=True)\n",
        "    t_d = 448\n",
        "    d = 100\n",
        "\n",
        "  elif args.arch =='wide_resnet50_2':\n",
        "    model = wide_resnet50_2(pretrained=True, progress=True)\n",
        "    t_d = 1792\n",
        "    d= 550\n",
        "  model.to(device)\n",
        "  model.eval()\n",
        "  random.seed(1024)\n",
        "  torch.manual_seed(1024)\n",
        "  if use_cuda:\n",
        "    torch.cuda.manual_seed_all(1024)\n",
        "  idx = torch.tensor(sample(range(0,t_d),d))\n",
        "\n",
        "  outputs=[]\n",
        "\n",
        "  def hook(module, input, output):\n",
        "    outputs.append(output)\n",
        "\n",
        "  model.layer1[-1].register_forward_hook(hook)\n",
        "  model.layer2[-1].register_forward_hook(hook)\n",
        "  model.layer3[-1].register_forward_hook(hook)\n",
        "\n",
        "  os.makedirs(os.path.join(args.save_path, 'temp_%s' % args.arch), exist_ok=True)\n",
        "  fig, ax = plt.subplots(1,2,figsize=(20,10))\n",
        "  fig_img_rocauc= ax[0]\n",
        "  fig_pixel_rocauc = ax[1]\n",
        "\n",
        "  total_roc_auc= []\n",
        "  total_pixel_roc_auc = []\n",
        "\n",
        "  for class_name in CLASS_NAMES:\n",
        "    train_dataset = MVTecDataset(args.data_path, class_name= class_name, is_train=True)\n",
        "    train_dataloader= DataLoader(train_dataset,batch_size= 32, pin_memory=True)\n",
        "    test_dataset = MVTecDataset(args.data_path, class_name= class_name, is_train=False)\n",
        "    test_dataloader= DataLoader(test_dataset,batch_size= 32, pin_memory=True)\n",
        "\n",
        "    train_outputs = OrderedDict([('layer1',[]),('layer2',[]),('layer3',[])])\n",
        "    test_outputs = OrderedDict([('layer1',[]),('layer2',[]),('layer3',[])])\n",
        "\n",
        "    # extract feature\n",
        "    train_feature_filepath = os.path.join(args.save_path, 'temp_%s'% args.arch, 'train_%s.pkl'% class_name)\n",
        "    if not os.path.exists(train_feature_filepath):\n",
        "      for (x,_,_) in tqdm(train_dataloader,'| feature extraction| train | %s |' % class_name):\n",
        "        #model prediction\n",
        "        with torch.no_grad():\n",
        "          _ = model(x.to(device))\n",
        "\n",
        "        # get intermediate layer outputs\n",
        "        for k, v in zip(train_outputs.keys(), outputs):\n",
        "          train_outputs[k].append(v.cpu().detach())\n",
        "        # initialize hook outputs\n",
        "        outputs=[]\n",
        "\n",
        "      for k,v in train_outputs.items():\n",
        "        train_outputs[k] = torch.cat(v,0)\n",
        "\n",
        "\n",
        "      # Embedding concat\n",
        "      embedding_vectors = train_outputs['layer1']\n",
        "      for layer_name in ['layer2','layer3']:\n",
        "        embedding_vectors= embedding_concat(embedding_vectors, train_outputs[layer_name])\n",
        "\n",
        "      # randomly select d dimension\n",
        "\n",
        "      embedding_vectors = torch.index_select(embedding_vectors,1,idx)\n",
        "\n",
        "      # calculate multivariate Gaussian distribution\n",
        "      B, C, H, W = embedding_vectors.size()\n",
        "      embedding_vectors = embedding_vectors.view(B, C, H * W)\n",
        "      mean = torch.mean(embedding_vectors, dim=0).numpy()\n",
        "      cov = torch.zeros(C,C,H*W).numpy()\n",
        "      I = np.identity(C)\n",
        "      for i in range(H*W):\n",
        "        cov[:,:,i] = np.cov(embedding_vectors[:,:,i].numpy(),rowvar=False)+0.01 * I\n",
        "\n",
        "      train_outputs = [mean,cov]\n",
        "      with open(train_feature_filepath, 'wb') as f:\n",
        "        pickle.dump(train_outputs,f)\n",
        "    else:\n",
        "      print('load train set feature from: %s' % train_feature_filepath)\n",
        "      with open(train_feature_filepath, 'rb') as f:\n",
        "        train_outputs= pickle.load(f)\n",
        "      \n",
        "    gt_list = []\n",
        "    gt_mask_list = []\n",
        "    test_imgs = []\n",
        "\n",
        "    for (x, y, mask) in tqdm(test_dataloader, '| feature extraction | test | %s |' % class_name):\n",
        "        test_imgs.extend(x.cpu().detach().numpy())\n",
        "        gt_list.extend(y.cpu().detach().numpy())\n",
        "        gt_mask_list.extend(mask.cpu().detach().numpy())\n",
        "        # model prediction\n",
        "        with torch.no_grad():\n",
        "          _ = model(x.to(device))\n",
        "        # get intermediate layer outputs\n",
        "        for k, v in zip(test_outputs.keys(), outputs):\n",
        "            #test_outputs[k].append(v[1].cpu().detach())\n",
        "            test_outputs[k].append(v.cpu().detach())\n",
        "         # initialize hook outputs\n",
        "        outputs = []\n",
        "    for k, v in test_outputs.items():\n",
        "        test_outputs[k] = torch.cat(v, 0)\n",
        "    # Embedding concat\n",
        "    embedding_vectors = test_outputs['layer1']\n",
        "    for layer_name in ['layer2', 'layer3']:\n",
        "        embedding_vectors = embedding_concat(embedding_vectors, test_outputs[layer_name])\n",
        "\n",
        "    # randomly select d dimension\n",
        "    embedding_vectors = torch.index_select(embedding_vectors, 1, idx)\n",
        "    # calculate distance matrix\n",
        "\n",
        "    B,C,H,W = embedding_vectors.size()\n",
        "    embedding_vectors = embedding_vectors.view(B,C,H*W).numpy()\n",
        "    dist_list=[]\n",
        "    for i in range(H*W):\n",
        "      mean = train_outputs[0][:,i]\n",
        "      conv_inv = np.linalg.inv(train_outputs[1][:,:,i])\n",
        "      dist = [mahalanobis(sample[:,i],mean,conv_inv) for sample in embedding_vectors]\n",
        "      dist_list.append(dist)\n",
        "\n",
        "    dist_list = np.array(dist_list).transpose(1,0).reshape(B,H,W)\n",
        "\n",
        "    #upsample\n",
        "    dist_list = torch.tensor(dist_list)\n",
        "    score_map = F.interpolate(dist_list.unsqueeze(1), size= x.size(2), mode='bilinear',\n",
        "                                align_corners=False).squeeze().numpy()\n",
        "\n",
        "    for i in range(score_map.shape[0]):\n",
        "      score_map[i] = gaussian_filter(score_map[i], sigma=4)\n",
        "\n",
        "    # Normalization\n",
        "\n",
        "    max_score = score_map.max()\n",
        "    min_score = score_map.min()\n",
        "    scores = (score_map- min_score) / (max_score - min_score)\n",
        "\n",
        "    # calculate image-level AUC score\n",
        "\n",
        "    img_scores = scores.reshape(scores.shape[0],-1).max(axis=1)\n",
        "    gt_list = np.asarray(gt_list)\n",
        "    fpr, tpr, _ = roc_curve(gt_list, img_scores)\n",
        "    img_roc_auc = roc_auc_score(gt_list, img_scores)\n",
        "    total_roc_auc.append(img_roc_auc)\n",
        "    print('image ROCAUC: %.3f' % (img_roc_auc))\n",
        "    fig_img_rocauc.plot(fpr,tpr,label= '%s img_ROCAUC: %.3f' % (class_name, img_roc_auc))\n",
        "\n",
        "    #get optimal threshold\n",
        "    gt_mask = np.asarray(gt_mask_list)\n",
        "    precision, recall, thresholds =precision_recall_curve(gt_mask.flatten(),scores.flatten())\n",
        "    a = 2* precision * recall \n",
        "    b = precision + recall\n",
        "    f1 = np.divide(a,b, out= np.zeros_like(a), where= b != 0)\n",
        "    threshold = thresholds[np.argmax(f1)]\n",
        "\n",
        "    # calculate per-pixel level ROCAUC\n",
        "    fpr, tpr, _ = roc_curve(gt_mask.flatten(), scores.flatten())\n",
        "    per_pixel_rocauc = roc_auc_score(gt_mask.flatten(), scores.flatten())\n",
        "    total_pixel_roc_auc.append(per_pixel_rocauc)\n",
        "    print('pixel ROCAUC: %.3f' % (per_pixel_rocauc))\n",
        "\n",
        "    fig_pixel_rocauc.plot(fpr,tpr,label='%s ROCAUC: %.3f' % (class_name, per_pixel_rocauc))\n",
        "    save_dir = args.save_path + '/' + f'pictures_{args.arch}'\n",
        "    os.makedirs(save_dir, exist_ok=True)\n",
        "    plot_fig(test_imgs, scores, gt_mask_list, threshold, save_dir, class_name)\n",
        "\n",
        "  print('Average pixel ROCAUC: %.3f' % np.mean(total_pixel_roc_auc))\n",
        "  fig_pixel_rocauc.title.set_text('Average pixel ROCAUC: %.3f' % np.mean(total_pixel_roc_auc))\n",
        "  fig_pixel_rocauc.legend(loc='lower right')\n",
        "\n",
        "  fig.tight_layout()\n",
        "  fig.savefig(os.path.join(args.save_path, 'roc_curve.png'), dpi=100)\n",
        "\n",
        "def plot_fig(test_img,scores, gts, threshold, save_dir, class_name):\n",
        "  num = len(scores)\n",
        "  vmax = scores.max()*255.\n",
        "  vmin = scores.min()*255.\n",
        "  for i in range(num):\n",
        "    img = test_img[i]\n",
        "    img = denormalization(img)\n",
        "    gt = gts[i].transpose(1,2,0).squeeze()\n",
        "    heat_map = scores[i] * 255\n",
        "    mask = scores[i]\n",
        "    mask[mask > threshold] = 1\n",
        "    mask[mask <= threshold] = 0\n",
        "    kernel = morphology.disk(4)\n",
        "    mask= morphology.opening(mask, kernel)\n",
        "    mask *= 255\n",
        "    vis_img = mark_boundaries(img, mask, color=(1,0,0), mode= 'thick')\n",
        "    fig_img, ax_img = plt.subplots(1,5,figsize=(12,3))\n",
        "    fig_img.subplots_adjust(right=0.9)\n",
        "    norm = matplotlib.colors.Normalize(vmin=vmin,vmax=vmax)\n",
        "    for ax_i in ax_img:\n",
        "      ax_i.axes.xaxis.set_visible(False)\n",
        "      ax_i.axes.yaxis.set_visible(False)\n",
        "    ax_img[0].imshow(img)\n",
        "    ax_img[0].title.set_text('Image')\n",
        "    ax_img[1].imshow(gt, cmap='gray')\n",
        "    ax_img[1].title.set_text('GroundTruth')\n",
        "    ax = ax_img[2].imshow(heat_map, cmap='jet', norm=norm)\n",
        "    ax_img[2].imshow(img,cmap='gray',interpolation='none')\n",
        "    ax_img[2].title.set_text('Predicted heat map')\n",
        "    ax_img[3].imshow(mask, cmap='gray')\n",
        "    ax_img[3].title.set_text('Predicted mask')\n",
        "    ax_img[4].imshow(vis_img)\n",
        "    ax_img[4].title.set_text('Segmentation result')\n",
        "    left=0.92\n",
        "    bottom=0.15\n",
        "    width = 0.015\n",
        "    height = 1-2*bottom\n",
        "    rect= [left, bottom, width, height]\n",
        "    cbar_ax = fig_img.add_axes(rect)\n",
        "    cb = plt.colorbar(ax, shrink=0.6, cax=cbar_ax, fraction=0.046)\n",
        "    cb.ax.tick_params(labelsize=8)\n",
        "    font={\n",
        "        'family': 'serif',\n",
        "            'color': 'black',\n",
        "            'weight': 'normal',\n",
        "            'size': 8,\n",
        "    }\n",
        "    cb.set_label('Anomaly Score', fontdict=font)\n",
        "\n",
        "    fig_img.savefig(os.path.join(save_dir,class_name+ '_{}'.format(i)),dpi=100)\n",
        "    plt.close()\n",
        "    \n",
        "def denormalization(x):\n",
        "  mean= np.array([0.485,0.456,0.406])\n",
        "  std= np.array([0.229,0.224,0.225])\n",
        "  x= (((x.transpose(1,2,0)*std)+mean)*255.).astype(np.uint8)\n",
        "\n",
        "  return x\n",
        "\n",
        "def embedding_concat(x,y):\n",
        "  B,C1,H1,W1 = x.size()\n",
        "  _,C2,H2,W2 = y.size()\n",
        "  s= int(H1/H2)\n",
        "  x = F.unfold(x, kernel_size=s, dilation=1, stride=s)\n",
        "  x = x.view(B,C1, -1,H2,W2)\n",
        "  z= torch.zeros(B, C1+C2,x.size(2),H2,W2)\n",
        "  for i in range(x.size(2)):\n",
        "    z[:,:,i,:,:]= torch.cat((x[:,:,i,:,:],y),1)\n",
        "  z = z.view(B,-1,H2*W2)\n",
        "  z = F.fold(z, kernel_size=s, output_size=(H1,W1),stride=s)\n",
        "\n",
        "  return z\n",
        "\n",
        "if __name__ == '__main__':\n",
        "    main()\n"
      ],
      "metadata": {
        "id": "oawicp6iLwIF",
        "colab": {
          "base_uri": "https://localhost:8080/",
          "height": 1000
        },
        "outputId": "c6615546-0804-4438-a63c-57cb32b74450"
      },
      "execution_count": null,
      "outputs": [
        {
          "output_type": "stream",
          "name": "stderr",
          "text": [
            "/usr/local/lib/python3.7/dist-packages/torchvision/models/_utils.py:209: UserWarning: The parameter 'pretrained' is deprecated since 0.13 and will be removed in 0.15, please use 'weights' instead.\n",
            "  f\"The parameter '{pretrained_param}' is deprecated since 0.13 and will be removed in 0.15, \"\n",
            "/usr/local/lib/python3.7/dist-packages/torchvision/models/_utils.py:223: UserWarning: Arguments other than a weight enum or `None` for 'weights' are deprecated since 0.13 and will be removed in 0.15. The current behavior is equivalent to passing `weights=ResNet18_Weights.IMAGENET1K_V1`. You can also use `weights=ResNet18_Weights.DEFAULT` to get the most up-to-date weights.\n",
            "  warnings.warn(msg)\n",
            "/usr/local/lib/python3.7/dist-packages/torchvision/transforms/transforms.py:333: UserWarning: Argument 'interpolation' of type int is deprecated since 0.13 and will be removed in 0.15. Please use InterpolationMode enum.\n",
            "  \"Argument 'interpolation' of type int is deprecated since 0.13 and will be removed in 0.15. \"\n"
          ]
        },
        {
          "output_type": "stream",
          "name": "stdout",
          "text": [
            "load train set feature from: /content/drive/MyDrive/Padim/mvtec_anomaly_detection/mvtec_result/temp_resnet18/train_bottle.pkl\n"
          ]
        },
        {
          "output_type": "stream",
          "name": "stderr",
          "text": [
            "| feature extraction | test | bottle |: 100%|██████████| 3/3 [00:03<00:00,  1.26s/it]\n"
          ]
        },
        {
          "output_type": "stream",
          "name": "stdout",
          "text": [
            "image ROCAUC: 0.996\n",
            "pixel ROCAUC: 0.981\n"
          ]
        },
        {
          "output_type": "stream",
          "name": "stderr",
          "text": [
            "/usr/local/lib/python3.7/dist-packages/torchvision/transforms/transforms.py:333: UserWarning: Argument 'interpolation' of type int is deprecated since 0.13 and will be removed in 0.15. Please use InterpolationMode enum.\n",
            "  \"Argument 'interpolation' of type int is deprecated since 0.13 and will be removed in 0.15. \"\n"
          ]
        },
        {
          "output_type": "stream",
          "name": "stdout",
          "text": [
            "load train set feature from: /content/drive/MyDrive/Padim/mvtec_anomaly_detection/mvtec_result/temp_resnet18/train_cable.pkl\n"
          ]
        },
        {
          "output_type": "stream",
          "name": "stderr",
          "text": [
            "| feature extraction | test | cable |: 100%|██████████| 5/5 [00:10<00:00,  2.13s/it]\n"
          ]
        },
        {
          "output_type": "stream",
          "name": "stdout",
          "text": [
            "image ROCAUC: 0.855\n",
            "pixel ROCAUC: 0.949\n"
          ]
        },
        {
          "output_type": "stream",
          "name": "stderr",
          "text": [
            "/usr/local/lib/python3.7/dist-packages/torchvision/transforms/transforms.py:333: UserWarning: Argument 'interpolation' of type int is deprecated since 0.13 and will be removed in 0.15. Please use InterpolationMode enum.\n",
            "  \"Argument 'interpolation' of type int is deprecated since 0.13 and will be removed in 0.15. \"\n"
          ]
        },
        {
          "output_type": "stream",
          "name": "stdout",
          "text": [
            "load train set feature from: /content/drive/MyDrive/Padim/mvtec_anomaly_detection/mvtec_result/temp_resnet18/train_capsule.pkl\n"
          ]
        },
        {
          "output_type": "stream",
          "name": "stderr",
          "text": [
            "| feature extraction | test | capsule |: 100%|██████████| 5/5 [00:09<00:00,  1.85s/it]\n"
          ]
        },
        {
          "output_type": "stream",
          "name": "stdout",
          "text": [
            "image ROCAUC: 0.870\n",
            "pixel ROCAUC: 0.982\n"
          ]
        },
        {
          "output_type": "stream",
          "name": "stderr",
          "text": [
            "/usr/local/lib/python3.7/dist-packages/torchvision/transforms/transforms.py:333: UserWarning: Argument 'interpolation' of type int is deprecated since 0.13 and will be removed in 0.15. Please use InterpolationMode enum.\n",
            "  \"Argument 'interpolation' of type int is deprecated since 0.13 and will be removed in 0.15. \"\n"
          ]
        },
        {
          "output_type": "stream",
          "name": "stdout",
          "text": [
            "load train set feature from: /content/drive/MyDrive/Padim/mvtec_anomaly_detection/mvtec_result/temp_resnet18/train_carpet.pkl\n"
          ]
        },
        {
          "output_type": "stream",
          "name": "stderr",
          "text": [
            "| feature extraction | test | carpet |: 100%|██████████| 4/4 [00:08<00:00,  2.12s/it]\n"
          ]
        },
        {
          "output_type": "stream",
          "name": "stdout",
          "text": [
            "image ROCAUC: 0.984\n",
            "pixel ROCAUC: 0.988\n",
            "Average pixel ROCAUC: 0.975\n"
          ]
        },
        {
          "output_type": "display_data",
          "data": {
            "text/plain": [
              "<Figure size 1440x720 with 2 Axes>"
            ],
            "image/png": "[encoded data removed]"
          },
          "metadata": {
            "needs_background": "light"
          }
        }
      ]
    }
  ]
}